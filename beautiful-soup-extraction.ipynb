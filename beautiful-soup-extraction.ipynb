{
 "cells": [
  {
   "cell_type": "markdown",
   "id": "b83f0e7e-21e0-46bf-ac10-ebd95fdc1d80",
   "metadata": {},
   "source": [
    "# HTML Only Article Extraction"
   ]
  },
  {
   "cell_type": "markdown",
   "id": "6234aa41-5379-4006-a260-b614cea807dc",
   "metadata": {},
   "source": [
    "- person name\n",
    "- event date\n",
    "- publication date\n",
    "- publisher\n",
    "- paragraph text\n",
    "- paragraph index"
   ]
  },
  {
   "cell_type": "markdown",
   "id": "d84a21f5-e6dd-4c7d-9001-e23b6dc90dee",
   "metadata": {},
   "source": [
    "### Dependencies"
   ]
  },
  {
   "cell_type": "code",
   "execution_count": 1,
   "id": "33041cb7-9cfc-4395-949c-3bf749284c30",
   "metadata": {},
   "outputs": [],
   "source": [
    "import articleDateExtractor\n",
    "from bs4 import BeautifulSoup, Comment\n",
    "import requests\n",
    "import polars as pl\n",
    "import json\n",
    "from datetime import datetime"
   ]
  },
  {
   "cell_type": "code",
   "execution_count": 2,
   "id": "a7637c66-c465-4ad9-bf3d-52f71a94cea9",
   "metadata": {},
   "outputs": [],
   "source": [
    "# these are all non-fatal incidents from our own database\n",
    "articles = [\n",
    "    \"https://www.theguardian.com/us-news/2020/aug/27/kenosha-police-officer-who-shot-jacob-blake-named-as-rusten-sheskey\", \n",
    "    \"https://www.nbcnews.com/news/us-news/isaiah-brown-black-man-shot-virginia-deputy-who-gave-him-n1265373\", \n",
    "    \"https://www.cnn.com/2023/11/17/us/charlotte-north-carolina-officer-struck-woman/index.html\", \n",
    "    \"https://www.bbc.com/news/articles/c05z7pm9llpo\",\n",
    "    \"https://abcnews.go.com/amp/US/mad-time-watch-nba-player-video-showing-police/story?id=55407317\"]\n",
    "\n",
    "more_articles = [\"https://www.nytimes.com/2021/06/19/world/canada/montreal-police-video-teenager.html\",\n",
    "    \"https://www.nytimes.com/2024/10/18/us/tyron-mcalpin-charges-dropped-maricopa-arizona.html\",\n",
    "    \"https://www.nytimes.com/2020/06/24/world/canada/canada-allan-adam-indigenous.html\", \n",
    "    \"https://www.cbc.ca/news/canada/british-columbia/rcmp-mona-wang-lacy-browning-police-violence-kelowna-1.6952794\", \n",
    "    \"https://www.washingtonpost.com/nation/2021/04/20/karen-garner-video-loveland-criminal-probe/\",\n",
    "]"
   ]
  },
  {
   "cell_type": "markdown",
   "id": "a10ebe84-fd7a-474f-ae71-a142151fc336",
   "metadata": {},
   "source": [
    "### Webhose"
   ]
  },
  {
   "cell_type": "code",
   "execution_count": 3,
   "id": "1d3f7ed9-377c-4a3d-a329-509621ce4653",
   "metadata": {},
   "outputs": [
    {
     "name": "stdout",
     "output_type": "stream",
     "text": [
      "Extracting date from https://www.theguardian.com/us-news/2020/aug/27/kenosha-police-officer-who-shot-jacob-blake-named-as-rusten-sheskey\n",
      "2020-08-27 12:13:16+00:00\n",
      "Extracting date from https://www.nbcnews.com/news/us-news/isaiah-brown-black-man-shot-virginia-deputy-who-gave-him-n1265373\n",
      "2021-04-26 17:16:00+00:00\n",
      "Extracting date from https://www.cnn.com/2023/11/17/us/charlotte-north-carolina-officer-struck-woman/index.html\n",
      "2023-11-18 02:00:06.957000+00:00\n",
      "Extracting date from https://www.bbc.com/news/articles/c05z7pm9llpo\n",
      "2024-11-04 10:13:41.709000+00:00\n",
      "Extracting date from https://abcnews.go.com/amp/US/mad-time-watch-nba-player-video-showing-police/story?id=55407317\n",
      "2018-05-24 22:25:00+00:00\n"
     ]
    }
   ],
   "source": [
    "for a in articles:\n",
    "    date = articleDateExtractor.extractArticlePublishedDate(a)\n",
    "    print(date)"
   ]
  },
  {
   "cell_type": "markdown",
   "id": "ae8ed169-162c-4616-a94b-3444a766b045",
   "metadata": {},
   "source": [
    "#### Notes\n",
    "Seems to struggle with in more_articles. NYT extracts but throws exception first, CBC and Washington don't load."
   ]
  },
  {
   "cell_type": "markdown",
   "id": "0f29cf17-d26c-438f-a65f-21b7526f425d",
   "metadata": {},
   "source": [
    "# Beautiful Soup"
   ]
  },
  {
   "cell_type": "markdown",
   "id": "44a8f5a2-2d03-4d90-b1d0-ca5d2199b583",
   "metadata": {},
   "source": [
    "### Notes\n",
    "- simple soln but won't work for all websites (auth, or dynamically loaded)\n",
    "- some common publishers it doesnt work for: nyt, cbc"
   ]
  },
  {
   "cell_type": "code",
   "execution_count": 4,
   "id": "6de37438-f937-4576-8a3f-57efb21faa66",
   "metadata": {},
   "outputs": [],
   "source": [
    "def getHTML(url):\n",
    "    res = requests.get(url) \n",
    "    return res.text"
   ]
  },
  {
   "cell_type": "markdown",
   "id": "172815b7-6d62-4ef6-94f6-5f5725de53c9",
   "metadata": {},
   "source": [
    "### Publisher Info"
   ]
  },
  {
   "cell_type": "code",
   "execution_count": 5,
   "id": "6827abf3-b6b9-48ad-88d0-c7c01377cb06",
   "metadata": {},
   "outputs": [],
   "source": [
    "# the meta data functions likely need more robust error handling.\n",
    "# works for non JS sites\n",
    "\n",
    "def getMetaData(soup):\n",
    "    ld_scripts = soup.find_all('script', {'type': 'application/ld+json'})\n",
    "        \n",
    "    for script in ld_scripts:\n",
    "        if not script.string:\n",
    "            continue  \n",
    "        # temp store this script \n",
    "        article_data = {}\n",
    "        temp_data = json.loads(script.string)\n",
    "        if isinstance(temp_data, dict):\n",
    "            if temp_data.get('@type') == 'NewsArticle' or temp_data.get('@type') == 'ReportageNewsArticle':\n",
    "                article_data = temp_data\n",
    "\n",
    "        # where data saved as objs, check that we actually have NewsArticle obj\n",
    "        if isinstance(temp_data, dict) and not article_data:\n",
    "            continue\n",
    "        \n",
    "        ld_data = json.loads(script.string)\n",
    "            \n",
    "        # arr\n",
    "        if isinstance(ld_data, list):\n",
    "            news_article = next((item for item in ld_data if item.get('@type') == 'NewsArticle'), None)\n",
    "            if news_article:\n",
    "                return news_article\n",
    "        # obj\n",
    "        else:\n",
    "            return ld_data\n",
    "                    \n",
    "        return None\n",
    "        \n",
    "# these two might need more robust error handling\n",
    "def getPublisher(news_article):\n",
    "    pub = news_article.get(\"publisher\", {})\n",
    "    # pub_name = pub.get(\"name\")\n",
    "    return pub.get(\"name\")\n",
    "    \n",
    "def getPublicationDate(news_article):\n",
    "    pub_date = news_article.get(\"datePublished\")\n",
    "    if pub_date:\n",
    "        date = datetime.fromisoformat(pub_date.replace(\"Z\", \"+00:00\"))\n",
    "        return date.date()\n",
    "    return None"
   ]
  },
  {
   "cell_type": "code",
   "execution_count": 6,
   "id": "f2d6caab-f915-49a3-8533-cfbd37007fa2",
   "metadata": {},
   "outputs": [
    {
     "name": "stdout",
     "output_type": "stream",
     "text": [
      "published by:  The Guardian\n",
      "originally published on:  2020-08-27\n",
      "published by:  NBC News\n",
      "originally published on:  2021-04-26\n",
      "published by:  CNN\n",
      "originally published on:  2023-11-18\n",
      "published by:  BBC News\n",
      "originally published on:  2024-11-04\n",
      "published by:  ABC News\n",
      "originally published on:  2018-05-24\n"
     ]
    }
   ],
   "source": [
    "for a in articles:\n",
    "    meta = getMetaData(BeautifulSoup(getHTML(a)))\n",
    "    publisher = getPublisher(meta)\n",
    "    print(\"published by: \", publisher)\n",
    "    publication_date = getPublicationDate(meta)\n",
    "    print(\"originally published on: \", publication_date)"
   ]
  },
  {
   "cell_type": "markdown",
   "id": "9df69481-6ba2-4f1a-adf7-5fffd52007e5",
   "metadata": {},
   "source": [
    "## Canadian Only"
   ]
  },
  {
   "cell_type": "markdown",
   "id": "937ffbdc-9cd4-4c2d-beaf-557e9d46585f",
   "metadata": {},
   "source": [
    "### Global"
   ]
  },
  {
   "cell_type": "code",
   "execution_count": 7,
   "id": "df3f66fa-7593-47f8-b3f2-8fd8b50c5be2",
   "metadata": {},
   "outputs": [],
   "source": [
    "global_soup = BeautifulSoup(getHTML(\"https://globalnews.ca/news/3731838/asirt-investigating-after-alleged-shots-fired-near-northwest-edmonton-shopping-centre/\"))"
   ]
  },
  {
   "cell_type": "code",
   "execution_count": 8,
   "id": "300b0ad7-886e-473a-8278-40901e0460df",
   "metadata": {},
   "outputs": [],
   "source": [
    "paragraphs = global_soup.article.find_all('p')\n",
    "global_text = global_soup.title.get_text()\n",
    "for p in paragraphs:\n",
    "    global_text += \"\\n\"\n",
    "    global_text += p.get_text()"
   ]
  },
  {
   "cell_type": "code",
   "execution_count": 9,
   "id": "9b0308e0-4c35-4d6a-86c5-673ee73e3d52",
   "metadata": {},
   "outputs": [
    {
     "name": "stdout",
     "output_type": "stream",
     "text": [
      "Article saved to global_article.txt\n"
     ]
    }
   ],
   "source": [
    "file_name = \"global_article.txt\"\n",
    "with open(file_name, 'w', encoding='utf-8') as file:\n",
    "    file.write(global_text)\n",
    "\n",
    "print(f\"Article saved to {file_name}\")"
   ]
  },
  {
   "cell_type": "markdown",
   "id": "1f34e0d2-fd6f-4af0-b8ea-4a4638020741",
   "metadata": {},
   "source": [
    "### Popular Publishers"
   ]
  },
  {
   "cell_type": "markdown",
   "id": "323fa3c5-907d-4805-92c3-fcbfaa549d95",
   "metadata": {},
   "source": [
    "#### Guardian"
   ]
  },
  {
   "cell_type": "code",
   "execution_count": 10,
   "id": "1ded11ef-fc0e-4f02-825a-7d9f11563938",
   "metadata": {},
   "outputs": [],
   "source": [
    "guardian_soup = BeautifulSoup(getHTML(\"https://www.theguardian.com/us-news/2020/aug/27/kenosha-police-officer-who-shot-jacob-blake-named-as-rusten-sheskey\"))"
   ]
  },
  {
   "cell_type": "code",
   "execution_count": 11,
   "id": "49c1a804-7afe-4aad-aa89-f22dafbbacaf",
   "metadata": {},
   "outputs": [],
   "source": [
    "paragraphs = guardian_soup.article.find_all('p')\n",
    "guardian_text = guardian_soup.title.get_text()\n",
    "for p in paragraphs:\n",
    "    guardian_text += \"\\n\"\n",
    "    guardian_text += p.get_text()   "
   ]
  },
  {
   "cell_type": "code",
   "execution_count": 12,
   "id": "dc13137c-5bd3-4269-a6f0-51ad02207798",
   "metadata": {},
   "outputs": [],
   "source": [
    "# times = guardian_soup.find_all('time')\n",
    "# for t in times:\n",
    "#     print(t)"
   ]
  },
  {
   "cell_type": "code",
   "execution_count": 13,
   "id": "14de7afe-fc5a-4a77-9d34-9fb213bd7462",
   "metadata": {},
   "outputs": [
    {
     "name": "stdout",
     "output_type": "stream",
     "text": [
      "Article saved to guardian_article.txt\n"
     ]
    }
   ],
   "source": [
    "file_name = \"guardian_article.txt\"\n",
    "with open(file_name, 'w', encoding='utf-8') as file:\n",
    "    file.write(guardian_text)\n",
    "\n",
    "print(f\"Article saved to {file_name}\")"
   ]
  },
  {
   "cell_type": "markdown",
   "id": "556c4621-771d-4539-b4a0-97587caf5830",
   "metadata": {},
   "source": [
    "##### Notes\n",
    "- not sure if every publisher keeps their content in p tags but this does well at isolating text at least for the guardian\n",
    "- docs say you should be able to get the source line for each tag, but that wasn't working on this specific article\n",
    "- might be able to pull publication date using this too if webhose doesn't work out"
   ]
  },
  {
   "cell_type": "markdown",
   "id": "834afd43-123e-4ed6-9592-f6fa874d5808",
   "metadata": {},
   "source": [
    "#### BBC"
   ]
  },
  {
   "cell_type": "code",
   "execution_count": 14,
   "id": "c612976c-a2ee-4e7f-a0ad-ae43a8f1bf9d",
   "metadata": {},
   "outputs": [],
   "source": [
    "bbc_soup = BeautifulSoup(getHTML(\"https://www.bbc.com/news/articles/c05z7pm9llpo\"))"
   ]
  },
  {
   "cell_type": "code",
   "execution_count": 15,
   "id": "53b2d1c6-4462-4d9c-a8ff-e0efce27321c",
   "metadata": {},
   "outputs": [],
   "source": [
    "paragraphs = bbc_soup.article.find_all('p')\n",
    "bbc_text = bbc_soup.title.get_text()\n",
    "for p in paragraphs:\n",
    "    bbc_text += \"\\n\"\n",
    "    bbc_text += p.get_text()    "
   ]
  },
  {
   "cell_type": "code",
   "execution_count": 16,
   "id": "d0120ef9-e3d3-406c-9f26-65cfa8842df2",
   "metadata": {},
   "outputs": [
    {
     "name": "stdout",
     "output_type": "stream",
     "text": [
      "Article saved to bbc_article.txt\n"
     ]
    }
   ],
   "source": [
    "file_name = \"bbc_article.txt\"\n",
    "with open(file_name, 'w', encoding='utf-8') as file:\n",
    "    file.write(bbc_text)\n",
    "\n",
    "print(f\"Article saved to {file_name}\")"
   ]
  },
  {
   "cell_type": "markdown",
   "id": "c2a150fd-c03c-4702-b6d0-d39843227369",
   "metadata": {},
   "source": [
    "#### CNN"
   ]
  },
  {
   "cell_type": "code",
   "execution_count": 17,
   "id": "6c44f9ce-2a12-4576-b540-5347cfc5d5ea",
   "metadata": {},
   "outputs": [],
   "source": [
    "cnn_soup = BeautifulSoup(getHTML(\"https://www.cnn.com/2023/11/17/us/charlotte-north-carolina-officer-struck-woman/index.html\"))"
   ]
  },
  {
   "cell_type": "code",
   "execution_count": 18,
   "id": "335d3fa3-edc1-4ce4-bc4a-2fe9ddb241ce",
   "metadata": {},
   "outputs": [],
   "source": [
    "paragraphs = cnn_soup.article.find_all('p')\n",
    "cnn_text = cnn_soup.title.get_text()\n",
    "for p in paragraphs:\n",
    "    cnn_text += \"\\n\"\n",
    "    cnn_text += p.get_text()    "
   ]
  },
  {
   "cell_type": "code",
   "execution_count": 19,
   "id": "215ba2b4-1875-457e-b6a3-864cbf191af1",
   "metadata": {},
   "outputs": [
    {
     "name": "stdout",
     "output_type": "stream",
     "text": [
      "Article saved to cnn_article.txt\n"
     ]
    }
   ],
   "source": [
    "file_name = \"cnn_article.txt\"\n",
    "with open(file_name, 'w', encoding='utf-8') as file:\n",
    "    file.write(cnn_text)\n",
    "\n",
    "print(f\"Article saved to {file_name}\")"
   ]
  },
  {
   "cell_type": "markdown",
   "id": "d9c944db-24a3-4d4f-93ec-82253aefa376",
   "metadata": {},
   "source": [
    "#### NBC"
   ]
  },
  {
   "cell_type": "code",
   "execution_count": 20,
   "id": "a4eed6f2-7596-4fdb-b4f1-f98e23bf2295",
   "metadata": {},
   "outputs": [],
   "source": [
    "nbc_soup = BeautifulSoup(getHTML( \"https://www.nbcnews.com/news/us-news/isaiah-brown-black-man-shot-virginia-deputy-who-gave-him-n1265373\"))"
   ]
  },
  {
   "cell_type": "code",
   "execution_count": 21,
   "id": "fb183a62-d5cf-48ca-9e2b-0fed2c472b94",
   "metadata": {},
   "outputs": [],
   "source": [
    "paragraphs = nbc_soup.article.find_all('p')\n",
    "nbc_text = nbc_soup.title.get_text()\n",
    "for p in paragraphs:\n",
    "    nbc_text += \"\\n\"\n",
    "    nbc_text += p.get_text()    "
   ]
  },
  {
   "cell_type": "code",
   "execution_count": 22,
   "id": "25d9d83b-9abe-43a4-b899-10f34b0e7dc7",
   "metadata": {},
   "outputs": [
    {
     "name": "stdout",
     "output_type": "stream",
     "text": [
      "Article saved to nbc_article.txt\n"
     ]
    }
   ],
   "source": [
    "file_name = \"nbc_article.txt\"\n",
    "with open(file_name, 'w', encoding='utf-8') as file:\n",
    "    file.write(nbc_text)\n",
    "\n",
    "print(f\"Article saved to {file_name}\")"
   ]
  },
  {
   "cell_type": "markdown",
   "id": "a871c6f1-eb71-41bc-84e5-45538990c58e",
   "metadata": {},
   "source": [
    "#### ABC"
   ]
  },
  {
   "cell_type": "code",
   "execution_count": 23,
   "id": "c57fdfbb-f6a9-47cf-8b9d-dfaea2c2c8f0",
   "metadata": {},
   "outputs": [],
   "source": [
    "abc_soup = BeautifulSoup(getHTML(\"https://abcnews.go.com/amp/US/mad-time-watch-nba-player-video-showing-police/story?id=55407317\"))"
   ]
  },
  {
   "cell_type": "code",
   "execution_count": 24,
   "id": "1e00b648-b31d-492b-801f-6c81b871994e",
   "metadata": {},
   "outputs": [],
   "source": [
    "paragraphs = abc_soup.article.find_all('p')\n",
    "abc_text = abc_soup.title.get_text()\n",
    "for p in paragraphs:\n",
    "    abc_text += \"\\n\"\n",
    "    abc_text += p.get_text()  "
   ]
  },
  {
   "cell_type": "code",
   "execution_count": 25,
   "id": "f8ae7649-79d4-4344-864d-10b2dcd1710c",
   "metadata": {},
   "outputs": [
    {
     "name": "stdout",
     "output_type": "stream",
     "text": [
      "Article saved to abc_article.txt\n"
     ]
    }
   ],
   "source": [
    "file_name = \"abc_article.txt\"\n",
    "with open(file_name, 'w', encoding='utf-8') as file:\n",
    "    file.write(abc_text)\n",
    "\n",
    "print(f\"Article saved to {file_name}\")"
   ]
  },
  {
   "cell_type": "markdown",
   "id": "99790622-39c5-43b9-9106-f08326db3db2",
   "metadata": {},
   "source": [
    "### Function"
   ]
  },
  {
   "cell_type": "code",
   "execution_count": 26,
   "id": "3dadfe11-438b-4bb0-afe4-574701c4e09f",
   "metadata": {},
   "outputs": [],
   "source": [
    "df = pl.DataFrame(\n",
    "    data=[], \n",
    "    schema={\n",
    "        \"Person Name\": pl.Utf8,\n",
    "        \"Incident Date\": pl.Utf8,\n",
    "        \"URL\": pl.Utf8,\n",
    "        \"Publisher\": pl.Utf8,\n",
    "        \"Publication Date\": pl.Date,\n",
    "        \"Paragraph\": pl.Utf8,\n",
    "        \"Paragraph Index\": pl.Int64\n",
    "    }\n",
    ")\n",
    "\n",
    "def makeDataEntries(url):    \n",
    "    soup = BeautifulSoup(getHTML(url))\n",
    "    metadata = getMetaData(soup)\n",
    "    publisher = getPublisher(metadata)\n",
    "    publication_date = getPublicationDate(metadata)\n",
    "    text = extractAllText(soup)\n",
    "    addData(publisher, url, publication_date, text)\n",
    "    \n",
    "# the meta data functions likely need more robust error handling.\n",
    "# works for non JS sites\n",
    "\n",
    "def getMetaData(soup):\n",
    "    ld_scripts = soup.find_all('script', {'type': 'application/ld+json'})   \n",
    "    for script in ld_scripts:\n",
    "        if not script.string:\n",
    "            continue  \n",
    "        # temp store this script \n",
    "        article_data = {}\n",
    "        temp_data = json.loads(script.string)\n",
    "        if isinstance(temp_data, dict):\n",
    "            if temp_data.get('@type') == 'NewsArticle' or temp_data.get('@type') == 'ReportageNewsArticle':\n",
    "                article_data = temp_data\n",
    "        # where data saved as objs, check that we actually have NewsArticle obj\n",
    "        if isinstance(temp_data, dict) and not article_data:\n",
    "            continue  \n",
    "        ld_data = json.loads(script.string)\n",
    "        # arr\n",
    "        if isinstance(ld_data, list):\n",
    "            news_article = next((item for item in ld_data if item.get('@type') == 'NewsArticle'), None)\n",
    "            if news_article:\n",
    "                return news_article\n",
    "        # obj\n",
    "        else:\n",
    "            return ld_data             \n",
    "        return None\n",
    "        \n",
    "# these two might need more robust error handling\n",
    "def getPublisher(news_article):\n",
    "    pub = news_article.get(\"publisher\", {})\n",
    "    # pub_name = pub.get(\"name\")\n",
    "    return pub.get(\"name\")\n",
    "    \n",
    "def getPublicationDate(news_article):\n",
    "    pub_date = news_article.get(\"datePublished\")\n",
    "    if pub_date:\n",
    "        date = datetime.fromisoformat(pub_date.replace(\"Z\", \"+00:00\"))\n",
    "        return date.date()\n",
    "    return None\n",
    "\n",
    "\n",
    "# returns text with line breaks\n",
    "def extractAllText(soup):\n",
    "    paragraphs = soup.article.find_all('p')\n",
    "    text = soup.title.get_text()\n",
    "    for p in paragraphs:\n",
    "        text += \"\\n\"\n",
    "        text += p.get_text() \n",
    "    return text\n",
    "\n",
    "\n",
    "def addData(publisher, url, publication_date, text):\n",
    "    lines = text.split(\"\\n\")\n",
    "    new_rows = []\n",
    "    for index, line in enumerate(lines):\n",
    "        if line.strip():\n",
    "            row = pl.DataFrame({\n",
    "                    \"Person Name\": \"Manual entry\", \n",
    "                    \"Event Date\": \"Manual entry\", \n",
    "                    \"URL\": url,\n",
    "                    \"Publisher\": publisher,\n",
    "                    \"Publication Date\": publication_date,\n",
    "                    \"Paragraph\": line,\n",
    "                    \"Paragraph Index\": index\n",
    "                })\n",
    "            df.extend(row)"
   ]
  },
  {
   "cell_type": "code",
   "execution_count": 32,
   "id": "62fde1fc-9ffa-4f6c-8403-081e8cfb424b",
   "metadata": {},
   "outputs": [
    {
     "name": "stdout",
     "output_type": "stream",
     "text": [
      "returned in  0.251446008682251  seconds\n"
     ]
    }
   ],
   "source": [
    "import time\n",
    "start = time.time()\n",
    "makeDataEntries(\"https://www.ctvnews.ca/montreal/article/man-fatally-shot-by-police-in-gay-village-bei-investigating/\")\n",
    "end = time.time()\n",
    "print(\"returned in \", end - start , \" seconds\")"
   ]
  },
  {
   "cell_type": "code",
   "execution_count": 28,
   "id": "b5484520-ecb2-424f-94fc-9c0abfbffb9e",
   "metadata": {},
   "outputs": [],
   "source": [
    "import pathlib\n",
    "# for later in python script\n",
    "# dirpath = pathlib.Path(__file__).parent \n",
    "dirpath = pathlib.Path.cwd()\n",
    "path = dirpath / \"ctv_file.csv\"\n",
    "\n",
    "df.write_csv(path, separator=\",\")"
   ]
  },
  {
   "cell_type": "code",
   "execution_count": 29,
   "id": "975b0f9f-7fda-4a8d-b787-801c93c1f630",
   "metadata": {},
   "outputs": [],
   "source": [
    "# doesn't include nyt, cbc, wapo\n",
    "errors_from_notion = [    \"https://www.independent.co.uk/news/world/americas/man-leon-ford-police-shot-paralysed-four-times-pittsburgh-pennsylvania-a7904576.html\",\n",
    "    \"https://vancouversun.com/news/kelowna-woman-sues-rcmp-officer-alleging-police-brutality-during-wellness-check\",\n",
    "    \"https://www.propublica.org/article/new-york-city-paid-an-nba-star-millions-after-an-nypd-officer-broke-his-leg.-the-officer-paid-little-price#:~:text=Five years ago%2C NBA guard,his leg with a baton.\",\n",
    "\"https://www.mirror.co.uk/news/uk-news/met-police-pay-out-millions-32605921\",\n",
    "             \"https://nypost.com/2024/11/05/sports/bodycam-footage-shows-what-caused-wild-scene-with-police-fans-at-georgia-florida-game/\",\n",
    "    \"https://kfor.com/news/local/bodycam-reveals-officer-slamming-elderly-man-to-the-ground/amp/\",\n",
    "              \"https://www.latimes.com/sports/nfl/la-sp-seahawks-bennett-profiled-20170906-story.html\",\n",
    "              \"https://www.seattletimes.com/sports/seahawks/las-vegas-sheriff-police-who-detained-michael-bennett-acted-appropriately-and-professionally/\",\n",
    "    \"https://abcnews.go.com/US/deputy-charged-sonya-massey-killing-feared-life-new/story?id=112604944\",\n",
    "    \"https://abcnews.go.com/US/former-deputy-held-bond-fatal-shooting-airman-roger/story?id=113177397\",\n",
    "    \"https://abcnews.go.com/US/new-details-emerge-police-shooting-13-year-new/story?id=111584303\",\n",
    "              \"https://abcnews.go.com/News/officer-fired-video-allegedly-choking-nfl-player-desmond/story?id=55096504\",\n",
    "    \"https://www.12news.com/article/news/local/valley/black-teen-accuses-officers-of-burning-her-during-arrest/75-398972fb-631e-4b9d-9dad-dfcdc43decf3\",\n",
    "    \"https://kansascitydefender.com/justice/independence-police-kill-mother-infant/\",\n",
    "    \"https://apnews.com/article/utica-police-shooting-nyah-mway-myanmar-835e5c29eed93dc109108f668323d9f4\",\n",
    "    \"https://abc7.com/post/las-vegas-police-kill-victim-of-home-invasion-who-called-911-for-help/15549861/\",\n",
    "    \"https://apnews.com/article/shooting-chicago-police-investigation-3d075a6dc4bc8fa3535d8dd2340446f7\",\n",
    "    \"https://abc7chicago.com/dexter-reed-shooting-medical-examiner-rules-mans-death-during-chicago-police-stop-a-homicide-says-he-was-shot-13-times/14735691/\",\n",
    "    \"https://www.sfgate.com/news/bayarea/article/man-killed-by-police-was-armed-with-what-turned-19881990.php\",\n",
    "    \"https://www.wkyc.com/article/news/local/akron/armed-suspect-shot-killed-akron-officer-gunfire-heard-nearby-according-to-police/95-168a0ea9-f4e0-4013-a052-24b86868315f\",\n",
    "    \"https://www.dailymail.co.uk/news/article-4251310/Jean-Charles-Menezes-family-slam-Met-police-chief.html\",\n",
    "    \"https://www.wkyc.com/article/news/investigations/3news-investigates-8-akron-police-fired-90-plus-shots-during-confrontation-fleeing-motorist/95-7d4a4603-8a2e-41a6-90eb-51b034863073\",   \"https://www.npr.org/2024/08/17/nx-s1-5079593/police-shooting-victoria-lee-fort-lee-new-jersey\"\n",
    "    \"https://www.aljazeera.com/news/2024/10/21/london-police-officer-who-fatally-shot-chris-kaba-acquitted-of-murder\",\n",
    "]\n",
    "notion_table = [\n",
    "    \"https://www.fox5atlanta.com/news/father-son-identified-in-moreland-avenue-police-shooting\",\n",
    "    \"https://www.theguardian.com/us-news/2020/aug/27/kenosha-police-officer-who-shot-jacob-blake-named-as-rusten-sheskey\",\n",
    "    \"https://www.cnn.com/2021/04/24/us/virginia-deputy-shooting-isaiah-brown/index.html\",\n",
    "    \"https://www.nbcnews.com/news/us-news/isaiah-brown-black-man-shot-virginia-deputy-who-gave-him-n1265373\",\n",
    "    \"https://www.nbcphiladelphia.com/news/local/leon-ford-pittsburgh-police-shooting/75915/\",\n",
    "    \"https://www.usatoday.com/story/news/nation/2024/06/06/seattle-police-officers-beat-man-bus-stop-video/73995371007/\",\n",
    "    \"https://www.nbcnews.com/news/us-news/2-police-officers-investigation-recorded-beating-man-batons-bus-stop-rcna155817\",\n",
    "    \"https://www.bbc.com/news/articles/c5y3vllzm7yo\",\n",
    "    \"https://www.cbsnews.com/news/joseph-harris-arkansas-police-officer-handcuffed-inmate-billy-lee-coram-back-patrol-car/\",\n",
    "    \"https://www.nbcnews.com/news/us-news/video-shows-north-carolina-police-officer-beating-woman-ground-rcna125386\",\n",
    "    \"https://www.cnn.com/2023/11/17/us/charlotte-north-carolina-officer-struck-woman/index.html\",\n",
    "    \"https://globalnews.ca/news/2670078/caught-on-camera-florida-officer-fired-charged-for-beating-handcuffed-woman/\",\n",
    "    \"https://www.cnn.com/2016/04/29/us/jacksonville-rookie-officer-fired/index.html\",\n",
    "    \"https://www.theguardian.com/us-news/2021/apr/27/colorado-walmart-karen-garner-loveland-police-arrest\",\n",
    "    \"https://abcnews.go.com/amp/US/mad-time-watch-nba-player-video-showing-police/story?id=55407317\",\n",
    "    \"https://www.theguardian.com/uk-news/2024/oct/25/black-youth-worker-tasered-by-city-of-london-police-wins-appeal-for-damages\",\n",
    "    \"https://www.bbc.com/news/articles/c05z7pm9llpo\",\n",
    "    \"https://therealnews.com/new-body-cam-footage-exposes-police-tasing-wisconsin-man-for-minor-traffic-infraction\",\n",
    "    \"https://www.yahoo.com/news/doordash-driver-tased-during-superior-035900843.html\",\n",
    "    \"https://globalnews.ca/news/7962850/investigation-video-montreal-police-arresting-black-youth/\",\n",
    "    \"https://www.bbc.com/news/articles/ce9x7l4v6e6o\",\n",
    "    \"https://www.nbcnews.com/news/us-news/officers-hit-fans-florida-georgia-game-policy-sheriff-says-rcna178721\",\n",
    "    \"https://www.cnn.com/2024/10/16/us/phoenix-police-tyron-mcalpin-bodycam/index.html\",\n",
    "    \"https://www.cbsnews.com/newyork/news/nypd-shooting-sutter-ave-subway-station-brooklyn/\",\n",
    "    \"https://www.bbc.com/news/articles/c93y74xl1wvo\",\n",
    "    \"https://www.npr.org/2024/11/14/nx-s1-5191723/oklahoma-city-police-investigation-70-year-old-man-bodycam\",\n",
    "    \"https://www.theglobeandmail.com/politics/article-indigenous-chief-says-rcmp-beat-him-up-and-manhandled-his-wife-over/\",\n",
    "    \"https://www.foxnews.com/sports/dolphins-tyreek-hill-not-blameless-incident-police-officers-espns-stephen-smith-says\",\n",
    "    \"https://www.cnn.com/2020/10/06/us/desmond-marrow-choking-police-aftermath/index.html\",\n",
    "    \"https://www.nbcnews.com/news/us-news/former-tennis-star-james-blake-calls-nyc-police-change-after-n426211\",\n",
    "    \"https://www.npr.org/sections/thetwo-way/2015/09/11/439563982/nypd-releases-video-of-officer-throwing-tennis-star-james-blake-to-the-ground\",\n",
    "    \"https://www.abc15.com/news/local-news/investigations/man-suffers-third-degree-burns-while-being-held-on-hot-pavement-by-phoenix-police\",\n",
    "    \"https://www.theguardian.com/us-news/2024/oct/29/phoenix-police-michael-kenyon-burn-video\",\n",
    "    \"https://www.npr.org/2024/06/21/nx-s1-5015030/linda-tirado-journalist-shot-police-2020-george-floyd-protests-hospice-care\",\n",
    "    \"https://www.foxnews.com/media/journalist-shot-minneapolis-police-2020-enters-hospice-care\",\n",
    "    \"https://www.azcentral.com/story/news/local/phoenix/2020/09/02/phoenix-police-brutalized-black-teen-burned-arrest-attorney-heather-hamel/5698116002/\",\n",
    "    \"https://www.kmbc.com/article/independence-missouri-ipd-mother-baby-shooting-identification-investigation/62883130\",\n",
    "    \"https://www.npr.org/2024/08/23/nx-s1-5088020/roger-fortson-death-florida-sheriff-deputy-charged-manslaughter\",\n",
    "    \"https://www.jsonline.com/story/news/local/milwaukee/2024/08/03/sam-sharpe-jr-s-faith-shined-at-memorial-service/74659400007/\",\n",
    "    \"https://www.cnn.com/2024/07/16/us/police-fatally-shoot-man-near-republican-national-convention/index.html\",\n",
    "    \"https://www.theguardian.com/us-news/article/2024/jul/22/sonya-massey-illinois-shooting-video\",\n",
    "    \"https://globalnews.ca/news/10863747/siu-police-shooting-hamilton/amp/\",\n",
    "    \"https://www.nbcnews.com/news/amp/rcna180528\",\n",
    "    \"https://www.ksbw.com/article/da-releases-body-camera-video-armed-man-killed-carmel-police/62787490\",\n",
    "    \"https://www.theguardian.com/uk-news/2024/nov/28/two-police-officers-served-misconduct-notices-death-girl-17-m5\",\n",
    "    \"https://www.theguardian.com/uk-news/2024/nov/20/met-officer-under-criminal-investigation-over-road-death-of-pregnant-woman\",\n",
    "    \"https://www.theguardian.com/uk-news/2024/nov/08/met-officer-who-killed-jean-charles-de-menezes-on-tube-defends-his-actions\",\n",
    "    \"https://www.bbc.com/news/articles/ce8d8grkzyyo\",\n",
    "    ]\n"
   ]
  },
  {
   "cell_type": "code",
   "execution_count": 30,
   "id": "22fe5bda-fa38-44f8-abaa-ddc596417380",
   "metadata": {},
   "outputs": [],
   "source": [
    "for article in notion_table:\n",
    "    makeDataEntries(article)"
   ]
  },
  {
   "cell_type": "code",
   "execution_count": 31,
   "id": "0c84d195-e736-4c69-97e0-ccdf8704e2d5",
   "metadata": {},
   "outputs": [],
   "source": [
    "df.write_csv(\"output.csv\")"
   ]
  },
  {
   "cell_type": "markdown",
   "id": "ee98f098-162e-4282-a218-04e88c85a677",
   "metadata": {},
   "source": [
    "### 2024-01-07\n",
    "- Works for basic news articles that do not use JS/need log in\n",
    "- Leaves some major publishers todo: nyt, cbc, apnews\n",
    "    - headless browser (Playwright?). Likely will have a wrapper function that identifies whether to call beautiful soup  or headless functions\n",
    "- Another challenge: smaller publications have more inconsistent formatting so those are also unaccounted for in this code. "
   ]
  }
 ],
 "metadata": {
  "kernelspec": {
   "display_name": "Python [conda env:base] *",
   "language": "python",
   "name": "conda-base-py"
  },
  "language_info": {
   "codemirror_mode": {
    "name": "ipython",
    "version": 3
   },
   "file_extension": ".py",
   "mimetype": "text/x-python",
   "name": "python",
   "nbconvert_exporter": "python",
   "pygments_lexer": "ipython3",
   "version": "3.11.5"
  }
 },
 "nbformat": 4,
 "nbformat_minor": 5
}
