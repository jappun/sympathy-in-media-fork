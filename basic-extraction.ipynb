{
 "cells": [
  {
   "cell_type": "markdown",
   "id": "b83f0e7e-21e0-46bf-ac10-ebd95fdc1d80",
   "metadata": {},
   "source": [
    "# Article Extraction"
   ]
  },
  {
   "cell_type": "markdown",
   "id": "6234aa41-5379-4006-a260-b614cea807dc",
   "metadata": {},
   "source": [
    "- person name\n",
    "- event date\n",
    "- publication date\n",
    "- paragraph text\n",
    "- paragraph index"
   ]
  },
  {
   "cell_type": "markdown",
   "id": "d84a21f5-e6dd-4c7d-9001-e23b6dc90dee",
   "metadata": {},
   "source": [
    "### Dependencies"
   ]
  },
  {
   "cell_type": "code",
   "execution_count": null,
   "id": "1baa6d14-4ddb-4262-95a6-cf5a55803caf",
   "metadata": {},
   "outputs": [],
   "source": [
    "# pip install articleDateExtractor\n",
    "# pip install python-dateutil\n",
    "# pip install lxml\n",
    "# pip install beautifulsoup4\n",
    "# pip install requests (I think this is slow, so will look into a different library)"
   ]
  },
  {
   "cell_type": "code",
   "execution_count": null,
   "id": "33041cb7-9cfc-4395-949c-3bf749284c30",
   "metadata": {},
   "outputs": [],
   "source": [
    "import articleDateExtractor\n",
    "from bs4 import BeautifulSoup, Comment\n",
    "import requests"
   ]
  },
  {
   "cell_type": "code",
   "execution_count": null,
   "id": "a7637c66-c465-4ad9-bf3d-52f71a94cea9",
   "metadata": {},
   "outputs": [],
   "source": [
    "# these are all non-fatal incidents from our own database\n",
    "articles = [\n",
    "    \"https://www.theguardian.com/us-news/2020/aug/27/kenosha-police-officer-who-shot-jacob-blake-named-as-rusten-sheskey\", \n",
    "    \"https://www.nbcnews.com/news/us-news/isaiah-brown-black-man-shot-virginia-deputy-who-gave-him-n1265373\", \n",
    "    \"https://www.cnn.com/2023/11/17/us/charlotte-north-carolina-officer-struck-woman/index.html\", \n",
    "    \"https://www.bbc.com/news/articles/c05z7pm9llpo\",\n",
    "    \"https://abcnews.go.com/amp/US/mad-time-watch-nba-player-video-showing-police/story?id=55407317\"]\n",
    "\n",
    "more_articles = [\"https://www.nytimes.com/2021/06/19/world/canada/montreal-police-video-teenager.html\",\n",
    "    \"https://www.nytimes.com/2024/10/18/us/tyron-mcalpin-charges-dropped-maricopa-arizona.html\",\n",
    "    \"https://www.nytimes.com/2020/06/24/world/canada/canada-allan-adam-indigenous.html\", \n",
    "    \"https://www.cbc.ca/news/canada/british-columbia/rcmp-mona-wang-lacy-browning-police-violence-kelowna-1.6952794\", \n",
    "    \"https://www.washingtonpost.com/nation/2021/04/20/karen-garner-video-loveland-criminal-probe/\",\n",
    "]"
   ]
  },
  {
   "cell_type": "markdown",
   "id": "a10ebe84-fd7a-474f-ae71-a142151fc336",
   "metadata": {},
   "source": [
    "### Webhose"
   ]
  },
  {
   "cell_type": "code",
   "execution_count": null,
   "id": "1d3f7ed9-377c-4a3d-a329-509621ce4653",
   "metadata": {},
   "outputs": [],
   "source": [
    "for a in articles:\n",
    "    date = articleDateExtractor.extractArticlePublishedDate(a)\n",
    "    print(date)"
   ]
  },
  {
   "cell_type": "markdown",
   "id": "ae8ed169-162c-4616-a94b-3444a766b045",
   "metadata": {},
   "source": [
    "#### Notes\n",
    "Seems to struggle with in more_articles. NYT extracts but throws exception first, CBC and Washington don't load."
   ]
  },
  {
   "cell_type": "markdown",
   "id": "0f29cf17-d26c-438f-a65f-21b7526f425d",
   "metadata": {},
   "source": [
    "### Beautiful Soup"
   ]
  },
  {
   "cell_type": "code",
   "execution_count": null,
   "id": "848365a1-28ac-4cc2-827d-e3ea717e3792",
   "metadata": {},
   "outputs": [],
   "source": [
    "# soup = BeautifulSoup(getHTML(\"https://www.theguardian.com/us-news/2020/aug/27/kenosha-police-officer-who-shot-jacob-blake-named-as-rusten-sheskey\"))\n",
    "# [s.extract() for s in soup(['style', 'script', '[document]', 'head', 'title'])]\n",
    "# visible_text = soup.getText()\n",
    "# print(visible_text)"
   ]
  },
  {
   "cell_type": "code",
   "execution_count": null,
   "id": "92c231aa-19e5-4291-b8d1-184765f33a5e",
   "metadata": {},
   "outputs": [],
   "source": [
    "def getHTML(url):\n",
    "    res = requests.get(url) \n",
    "    return res.text\n",
    "\n",
    "def tag_visible(element):\n",
    "    if element.parent.name in ['style', 'script', 'head', 'title', 'meta', '[document]']:\n",
    "        return False\n",
    "    if isinstance(element, Comment):\n",
    "        return False\n",
    "    return True\n",
    "def text_from_html(body):\n",
    "    soup = BeautifulSoup(body, 'html.parser')\n",
    "    texts = soup.findAll(string=True)\n",
    "    visible_texts = filter(tag_visible, texts)  \n",
    "    return u\" \".join(t.strip() for t in visible_texts)\n",
    "# using the above\n",
    "# text_from_html(getHTML(\"https://www.theguardian.com/us-news/2020/aug/27/kenosha-police-officer-who-shot-jacob-blake-named-as-rusten-sheskey\"))"
   ]
  },
  {
   "cell_type": "code",
   "execution_count": null,
   "id": "1ded11ef-fc0e-4f02-825a-7d9f11563938",
   "metadata": {},
   "outputs": [],
   "source": [
    "soup = BeautifulSoup(getHTML(\"https://www.theguardian.com/us-news/2020/aug/27/kenosha-police-officer-who-shot-jacob-blake-named-as-rusten-sheskey\"))"
   ]
  },
  {
   "cell_type": "code",
   "execution_count": null,
   "id": "14de7afe-fc5a-4a77-9d34-9fb213bd7462",
   "metadata": {},
   "outputs": [],
   "source": [
    "soup.title"
   ]
  },
  {
   "cell_type": "code",
   "execution_count": null,
   "id": "360e2fc8-807c-4059-983c-1f3146756c0d",
   "metadata": {},
   "outputs": [],
   "source": [
    "# soup.find_all('p')\n",
    "for tag in soup.find_all('p'):\n",
    "    # print(tag.sourceline)\n",
    "    print(tag.string)"
   ]
  },
  {
   "cell_type": "markdown",
   "id": "556c4621-771d-4539-b4a0-97587caf5830",
   "metadata": {},
   "source": [
    "#### Notes\n",
    "- not sure if every publisher keeps their content in p tags but this does well at isolating text at least for the guardian\n",
    "- docs say you should be able to get the source line for each tag, but that wasn't working on this specific article\n",
    "- might be able to pull publication date using this too if webhose doesn't work out"
   ]
  }
 ],
 "metadata": {
  "kernelspec": {
   "display_name": "Python [conda env:base] *",
   "language": "python",
   "name": "conda-base-py"
  },
  "language_info": {
   "codemirror_mode": {
    "name": "ipython",
    "version": 3
   },
   "file_extension": ".py",
   "mimetype": "text/x-python",
   "name": "python",
   "nbconvert_exporter": "python",
   "pygments_lexer": "ipython3",
   "version": "3.11.5"
  }
 },
 "nbformat": 4,
 "nbformat_minor": 5
}
